{
 "cells": [
  {
   "cell_type": "markdown",
   "metadata": {},
   "source": [
    "# What is the True Normal Human Body Temperature? \n",
    "\n",
    "#### Background\n",
    "\n",
    "The mean normal body temperature was held to be 37$^{\\circ}$C or 98.6$^{\\circ}$F for more than 120 years since it was first conceptualized and reported by Carl Wunderlich in a famous 1868 book. But, is this value statistically correct?"
   ]
  },
  {
   "cell_type": "markdown",
   "metadata": {},
   "source": [
    "<h3>Exercises</h3>\n",
    "\n",
    "<p>In this exercise, you will analyze a dataset of human body temperatures and employ the concepts of hypothesis testing, confidence intervals, and statistical significance.</p>\n",
    "\n",
    "<p>Answer the following questions <b>in this notebook below and submit to your Github account</b>.</p> \n",
    "\n",
    "<ol>\n",
    "<li>  Is the distribution of body temperatures normal? \n",
    "    <ul>\n",
    "    <li> Although this is not a requirement for the Central Limit Theorem to hold (read the introduction on Wikipedia's page about the CLT carefully: https://en.wikipedia.org/wiki/Central_limit_theorem), it gives us some peace of mind that the population may also be normally distributed if we assume that this sample is representative of the population.\n",
    "    <li> Think about the way you're going to check for the normality of the distribution. Graphical methods are usually used first, but there are also other ways: https://en.wikipedia.org/wiki/Normality_test\n",
    "    </ul>\n",
    "<li>  Is the sample size large? Are the observations independent?\n",
    "    <ul>\n",
    "    <li> Remember that this is a condition for the Central Limit Theorem, and hence the statistical tests we are using, to apply.\n",
    "    </ul>\n",
    "<li>  Is the true population mean really 98.6 degrees F?\n",
    "    <ul>\n",
    "    <li> First, try a bootstrap hypothesis test.\n",
    "    <li> Now, let's try frequentist statistical testing. Would you use a one-sample or two-sample test? Why?\n",
    "    <li> In this situation, is it appropriate to use the $t$ or $z$ statistic? \n",
    "    <li> Now try using the other test. How is the result be different? Why?\n",
    "    </ul>\n",
    "<li>  Draw a small sample of size 10 from the data and repeat both frequentist tests. \n",
    "    <ul>\n",
    "    <li> Which one is the correct one to use? \n",
    "    <li> What do you notice? What does this tell you about the difference in application of the $t$ and $z$ statistic?\n",
    "    </ul>\n",
    "<li>  At what temperature should we consider someone's temperature to be \"abnormal\"?\n",
    "    <ul>\n",
    "    <li> As in the previous example, try calculating everything using the boostrap approach, as well as the frequentist approach.\n",
    "    <li> Start by computing the margin of error and confidence interval. When calculating the confidence interval, keep in mind that you should use the appropriate formula for one draw, and not N draws.\n",
    "    </ul>\n",
    "<li>  Is there a significant difference between males and females in normal temperature?\n",
    "    <ul>\n",
    "    <li> What testing approach did you use and why?\n",
    "    <li> Write a story with your conclusion in the context of the original problem.\n",
    "    </ul>\n",
    "</ol>\n",
    "\n",
    "You can include written notes in notebook cells using Markdown: \n",
    "   - In the control panel at the top, choose Cell > Cell Type > Markdown\n",
    "   - Markdown syntax: http://nestacms.com/docs/creating-content/markdown-cheat-sheet\n",
    "\n",
    "#### Resources\n",
    "\n",
    "+ Information and data sources: http://www.amstat.org/publications/jse/datasets/normtemp.txt, http://www.amstat.org/publications/jse/jse_data_archive.htm\n",
    "+ Markdown syntax: http://nestacms.com/docs/creating-content/markdown-cheat-sheet\n",
    "\n",
    "****"
   ]
  },
  {
   "cell_type": "code",
   "execution_count": 1,
   "metadata": {},
   "outputs": [
    {
     "data": {
      "text/html": [
       "<div>\n",
       "<style scoped>\n",
       "    .dataframe tbody tr th:only-of-type {\n",
       "        vertical-align: middle;\n",
       "    }\n",
       "\n",
       "    .dataframe tbody tr th {\n",
       "        vertical-align: top;\n",
       "    }\n",
       "\n",
       "    .dataframe thead th {\n",
       "        text-align: right;\n",
       "    }\n",
       "</style>\n",
       "<table border=\"1\" class=\"dataframe\">\n",
       "  <thead>\n",
       "    <tr style=\"text-align: right;\">\n",
       "      <th></th>\n",
       "      <th>temperature</th>\n",
       "      <th>gender</th>\n",
       "      <th>heart_rate</th>\n",
       "    </tr>\n",
       "  </thead>\n",
       "  <tbody>\n",
       "    <tr>\n",
       "      <th>0</th>\n",
       "      <td>99.3</td>\n",
       "      <td>F</td>\n",
       "      <td>68.0</td>\n",
       "    </tr>\n",
       "    <tr>\n",
       "      <th>1</th>\n",
       "      <td>98.4</td>\n",
       "      <td>F</td>\n",
       "      <td>81.0</td>\n",
       "    </tr>\n",
       "    <tr>\n",
       "      <th>2</th>\n",
       "      <td>97.8</td>\n",
       "      <td>M</td>\n",
       "      <td>73.0</td>\n",
       "    </tr>\n",
       "    <tr>\n",
       "      <th>3</th>\n",
       "      <td>99.2</td>\n",
       "      <td>F</td>\n",
       "      <td>66.0</td>\n",
       "    </tr>\n",
       "    <tr>\n",
       "      <th>4</th>\n",
       "      <td>98.0</td>\n",
       "      <td>F</td>\n",
       "      <td>73.0</td>\n",
       "    </tr>\n",
       "  </tbody>\n",
       "</table>\n",
       "</div>"
      ],
      "text/plain": [
       "   temperature gender  heart_rate\n",
       "0         99.3      F        68.0\n",
       "1         98.4      F        81.0\n",
       "2         97.8      M        73.0\n",
       "3         99.2      F        66.0\n",
       "4         98.0      F        73.0"
      ]
     },
     "execution_count": 1,
     "metadata": {},
     "output_type": "execute_result"
    }
   ],
   "source": [
    "#https://machinelearningmastery.com/a-gentle-introduction-to-normality-tests-in-python/\n",
    "import pandas as pd\n",
    "import numpy as np\n",
    "import random\n",
    "import matplotlib.pyplot as plt\n",
    "import seaborn as sns\n",
    "from statsmodels.graphics.gofplots import qqplot\n",
    "from scipy import stats\n",
    "from statsmodels.stats.weightstats import ztest\n",
    "\n",
    "df = pd.read_csv('data/human_body_temperature.csv')\n",
    "df.head()"
   ]
  },
  {
   "cell_type": "markdown",
   "metadata": {},
   "source": [
    "- I start with some data visualization to get better undrestanding of the data.\n",
    "- Same value counts of female and male"
   ]
  },
  {
   "cell_type": "code",
   "execution_count": 2,
   "metadata": {},
   "outputs": [
    {
     "data": {
      "image/png": "[encoded data removed]",
      "text/plain": [
       "<Figure size 432x288 with 1 Axes>"
      ]
     },
     "metadata": {},
     "output_type": "display_data"
    }
   ],
   "source": [
    "Temp=df['temperature']\n",
    "Gen=df['gender']\n",
    "hrate=df['heart_rate']\n",
    "\n",
    "sns.countplot(x='gender',data=df,palette='Set2')\n",
    "plt.show() #Same value counts of Female and male"
   ]
  },
  {
   "cell_type": "markdown",
   "metadata": {},
   "source": [
    "swarmplot to show the distribution of the temperature for each gender"
   ]
  },
  {
   "cell_type": "code",
   "execution_count": 3,
   "metadata": {},
   "outputs": [
    {
     "data": {
      "image/png": "[encoded data removed]",
      "text/plain": [
       "<Figure size 432x288 with 1 Axes>"
      ]
     },
     "metadata": {},
     "output_type": "display_data"
    }
   ],
   "source": [
    "sns.swarmplot(x='gender',y='temperature',data=df,palette='Set2')\n",
    "plt.show()"
   ]
  },
  {
   "cell_type": "markdown",
   "metadata": {},
   "source": [
    "swarmplot to show the distribution of the heart rate for each gender"
   ]
  },
  {
   "cell_type": "code",
   "execution_count": 4,
   "metadata": {},
   "outputs": [
    {
     "data": {
      "image/png": "[encoded data removed]",
      "text/plain": [
       "<Figure size 432x288 with 1 Axes>"
      ]
     },
     "metadata": {},
     "output_type": "display_data"
    }
   ],
   "source": [
    "sns.swarmplot(x='gender',y='heart_rate',data=df,palette='Set2')\n",
    "plt.show()"
   ]
  },
  {
   "cell_type": "markdown",
   "metadata": {},
   "source": [
    "Histogram of each gender"
   ]
  },
  {
   "cell_type": "code",
   "execution_count": 5,
   "metadata": {},
   "outputs": [
    {
     "data": {
      "image/png": "[encoded data removed]",
      "text/plain": [
       "<Figure size 432x216 with 2 Axes>"
      ]
     },
     "metadata": {},
     "output_type": "display_data"
    }
   ],
   "source": [
    "g = sns.FacetGrid(data=df,col='gender')\n",
    "g.map(plt.hist,'temperature')\n",
    "plt.show()"
   ]
  },
  {
   "cell_type": "markdown",
   "metadata": {},
   "source": [
    "## 1. Is the distribution of body temperatures normal? "
   ]
  },
  {
   "cell_type": "code",
   "execution_count": 6,
   "metadata": {},
   "outputs": [
    {
     "data": {
      "text/plain": [
       "NormaltestResult(statistic=2.703801433319203, pvalue=0.2587479863488254)"
      ]
     },
     "execution_count": 6,
     "metadata": {},
     "output_type": "execute_result"
    }
   ],
   "source": [
    "stats.normaltest(Temp) "
   ]
  },
  {
   "cell_type": "markdown",
   "metadata": {},
   "source": [
    "Histogram plot is close to bell shape, The data can be normal but we need to check other methods"
   ]
  },
  {
   "cell_type": "code",
   "execution_count": 7,
   "metadata": {},
   "outputs": [
    {
     "data": {
      "image/png": "[encoded data removed]",
      "text/plain": [
       "<Figure size 432x288 with 1 Axes>"
      ]
     },
     "metadata": {},
     "output_type": "display_data"
    }
   ],
   "source": [
    "plt.hist(Temp)#,bins=20)\n",
    "plt.show() "
   ]
  },
  {
   "cell_type": "code",
   "execution_count": 8,
   "metadata": {},
   "outputs": [
    {
     "name": "stderr",
     "output_type": "stream",
     "text": [
      "C:\\Python\\Anaconda3\\lib\\site-packages\\matplotlib\\axes\\_axes.py:6462: UserWarning: The 'normed' kwarg is deprecated, and has been replaced by the 'density' kwarg.\n",
      "  warnings.warn(\"The 'normed' kwarg is deprecated, and has been \"\n"
     ]
    },
    {
     "data": {
      "image/png": "[encoded data removed]",
      "text/plain": [
       "<Figure size 432x288 with 1 Axes>"
      ]
     },
     "metadata": {},
     "output_type": "display_data"
    }
   ],
   "source": [
    "sns.distplot(Temp)\n",
    "plt.show()"
   ]
  },
  {
   "cell_type": "markdown",
   "metadata": {},
   "source": [
    "Quantile-Quantile Plot"
   ]
  },
  {
   "cell_type": "code",
   "execution_count": 9,
   "metadata": {},
   "outputs": [
    {
     "data": {
      "image/png": "[encoded data removed]",
      "text/plain": [
       "<Figure size 432x288 with 1 Axes>"
      ]
     },
     "metadata": {},
     "output_type": "display_data"
    }
   ],
   "source": [
    "qqplot(Temp, line='s')\n",
    "plt.show() #Running the example creates the QQ plot showing the scatter plot of points in a diagonal line, \n",
    "#closely fitting the expected diagonal pattern for a sample from a Gaussian distribution."
   ]
  },
  {
   "cell_type": "markdown",
   "metadata": {},
   "source": [
    "- The p-value obtained is approximately 0.259 which is much greater than alpha=0.05. Therefore, the temperatures is a normal distribution. (Fail to reject H0)\n",
    "- I  plot the histogram to see if it is colse to bell-shape.\n",
    "- I construct a quantile plot which is showing the scatter plot of points in a diagonal line, closely fitting the expected diagonal pattern for a sample from a Gaussian distribution.\n",
    "- As it is shown, the distribution is indeed normal in nature. \n",
    "- The seaborn histogram plot shows us that the distribution is normal as the frequency of values decrease exponentially as we move away from the mean.\n",
    "- Also, the quantile plot is a straight line which strenghtens our claim. \n",
    "\n",
    "- **Conclusion: The sampled distribution is normal and there is evidence indicating the sample distribution is a good representative of the population**"
   ]
  },
  {
   "cell_type": "markdown",
   "metadata": {},
   "source": [
    "## 2. Is the sample size large? Are the observations independent? \n"
   ]
  },
  {
   "cell_type": "code",
   "execution_count": 10,
   "metadata": {},
   "outputs": [
    {
     "data": {
      "text/plain": [
       "130"
      ]
     },
     "execution_count": 10,
     "metadata": {},
     "output_type": "execute_result"
    }
   ],
   "source": [
    "len(Temp)"
   ]
  },
  {
   "cell_type": "markdown",
   "metadata": {},
   "source": [
    "- According to the Central Limit Theorem, we require at least 30 samples to satisfy the CLT conditions. The length of our data is 130. So the sample size is large enough.\n",
    "- The observations are the temperature and heart rate of each person. It can be safely assumed that the measurements of temperature and heartbeat for one person is not affected by the measurements of another person. Furhtermore, we have already discovered that the sampled distrbution is normal and this led us to conclude that the distribution is a good representation of the population.\n",
    "- **Conclusion: The sample size is large enough. We can apply z-statistics for hypothesis testing.\n",
    "The samples are statistically independent.**"
   ]
  },
  {
   "cell_type": "markdown",
   "metadata": {},
   "source": [
    "## 3. Is the true population mean really 98.6 degrees F? \n"
   ]
  },
  {
   "cell_type": "markdown",
   "metadata": {},
   "source": [
    "- The sample size is greater than 30 so z-statistics is enough to conclude the answer.\n",
    "- I use a one sample test because we are only interested in the mean of one population.\n",
    "- We do not have data about the true population mean as it is not possible to sample the entire population. However, we can perform a hypothesis test and calculate the appropriate p-value for the test. If it is below a threshold (alpha= 0.05), we can reject the hypothesis and if it is greater, we can accept it.\n",
    "- For the purpose of this test, we define:\n",
    "-   Null Hypothesis(H0): The true population mean is 98.6F.\n",
    "-   Alternate Hypothesis (Ha): The true population mean is not 98.6F."
   ]
  },
  {
   "cell_type": "code",
   "execution_count": 11,
   "metadata": {},
   "outputs": [
    {
     "name": "stdout",
     "output_type": "stream",
     "text": [
      "Sample mean:  98.24923076923078\n",
      "Sample std:  0.7303577789050377\n",
      "Sigma x:  0.06405661469519336\n"
     ]
    }
   ],
   "source": [
    "Ture_mean=98.6\n",
    "Sample_mean=np.mean(Temp)\n",
    "Sample_std=np.std(Temp)\n",
    "sigma_x=Sample_std/np.sqrt(len(Temp))\n",
    "\n",
    "print('Sample mean: ', Sample_mean)\n",
    "print('Sample std: ', Sample_std)\n",
    "print('Sigma x: ', sigma_x)"
   ]
  },
  {
   "cell_type": "markdown",
   "metadata": {},
   "source": [
    "Apply z-Statistics"
   ]
  },
  {
   "cell_type": "code",
   "execution_count": 12,
   "metadata": {},
   "outputs": [
    {
     "name": "stdout",
     "output_type": "stream",
     "text": [
      "5.475925202078116 4.352315174926957e-08\n"
     ]
    }
   ],
   "source": [
    "z=(98.6-Sample_mean)/sigma_x\n",
    "p_z=(1-stats.norm.cdf(z))*2\n",
    "print(z,p_z)"
   ]
  },
  {
   "cell_type": "markdown",
   "metadata": {},
   "source": [
    "Apply t-Statistics"
   ]
  },
  {
   "cell_type": "code",
   "execution_count": 13,
   "metadata": {},
   "outputs": [
    {
     "name": "stdout",
     "output_type": "stream",
     "text": [
      "5.475925202078116 2.1887464640713006e-07\n"
     ]
    }
   ],
   "source": [
    "t=z\n",
    "p_t=(1-stats.t.cdf(t,len(df)-1))*2\n",
    "print(t,p_t)"
   ]
  },
  {
   "cell_type": "code",
   "execution_count": 14,
   "metadata": {},
   "outputs": [
    {
     "data": {
      "text/plain": [
       "5.0289245518806736"
      ]
     },
     "execution_count": 14,
     "metadata": {},
     "output_type": "execute_result"
    }
   ],
   "source": [
    "p_t/p_z"
   ]
  },
  {
   "cell_type": "markdown",
   "metadata": {},
   "source": [
    "I also use ztest function to claculate z score and p-value."
   ]
  },
  {
   "cell_type": "code",
   "execution_count": 15,
   "metadata": {},
   "outputs": [
    {
     "name": "stdout",
     "output_type": "stream",
     "text": [
      "Z-score is equal to :  5.455  p-value equal to: 0.000000049\n"
     ]
    }
   ],
   "source": [
    "z = ztest(Temp,value=98.6)\n",
    "print(\"Z-score is equal to : %6.3F  p-value equal to: %6.9F\" % (abs(z[0]),z[1]))"
   ]
  },
  {
   "cell_type": "markdown",
   "metadata": {},
   "source": [
    "- The p_t is 5 times larger than p_z, but still extremely smaller than alpha.\n",
    "- H0 is rejected.\n",
    "- **Conclusion: Both the p-value obtined from z-statistics and t-statistics is very small. So we can rejet the null hypothesis. The true mean is NOT 98.6F.**"
   ]
  },
  {
   "cell_type": "markdown",
   "metadata": {},
   "source": [
    "## 4. Draw a small sample of size 10 from the data and repeat both frequentist tests. Which one is the correct one to use? What do you notice? What does this tell you about the difference in application of the t and z statistic? "
   ]
  },
  {
   "cell_type": "markdown",
   "metadata": {},
   "source": [
    "- I am checking the resul with three different seed values, since I need to get the sample randomly. To see how the final result differ. \n",
    "- Since the sample size in smaller than 30, we cannot use z-tset. But I am checking both z-test and t-test to see the difference."
   ]
  },
  {
   "cell_type": "code",
   "execution_count": 16,
   "metadata": {},
   "outputs": [
    {
     "name": "stdout",
     "output_type": "stream",
     "text": [
      "Sample mean:  98.05\n",
      "Sample std:  0.8393449827097319\n",
      "Sigma x:  0.26542418879973995\n",
      "Z-score is equal to :  1.966  p-value equal to: 0.049319566\n",
      "t-score is equal to :  1.966  p-value equal to: 0.080884236\n"
     ]
    }
   ],
   "source": [
    "Ture_mean=98.6\n",
    "\n",
    "np.random.seed(1)\n",
    "Temp_Sample=Temp.sample(n=10)\n",
    "Sample_mean=np.mean(Temp_Sample)\n",
    "Sample_std=np.std(Temp_Sample)\n",
    "sigma_x=Sample_std/np.sqrt(len(Temp_Sample))\n",
    "\n",
    "print('Sample mean: ', Sample_mean)\n",
    "print('Sample std: ', Sample_std)\n",
    "print('Sigma x: ', sigma_x)\n",
    "\n",
    "z = ztest(Temp_Sample,value=98.6)\n",
    "print(\"Z-score is equal to : %6.3F  p-value equal to: %6.9F\" % (abs(z[0]),z[1]))\n",
    "\n",
    "t=stats.ttest_1samp(Temp_Sample,98.6)\n",
    "print(\"t-score is equal to : %6.3F  p-value equal to: %6.9F\" % (abs(t[0]),t[1]))"
   ]
  },
  {
   "cell_type": "code",
   "execution_count": 17,
   "metadata": {},
   "outputs": [
    {
     "name": "stdout",
     "output_type": "stream",
     "text": [
      "Sample mean:  98.28\n",
      "Sample std:  1.2639620247459957\n",
      "Sigma x:  0.3996998874155454\n",
      "Z-score is equal to :  0.760  p-value equal to: 0.447543654\n",
      "t-score is equal to :  0.760  p-value equal to: 0.466970599\n"
     ]
    }
   ],
   "source": [
    "Ture_mean=98.6\n",
    "\n",
    "np.random.seed(10)\n",
    "Temp_Sample=Temp.sample(n=10)\n",
    "Sample_mean=np.mean(Temp_Sample)\n",
    "Sample_std=np.std(Temp_Sample)\n",
    "sigma_x=Sample_std/np.sqrt(len(Temp_Sample))\n",
    "\n",
    "print('Sample mean: ', Sample_mean)\n",
    "print('Sample std: ', Sample_std)\n",
    "print('Sigma x: ', sigma_x)\n",
    "\n",
    "\n",
    "z = ztest(Temp_Sample,value=98.6)\n",
    "print(\"Z-score is equal to : %6.3F  p-value equal to: %6.9F\" % (abs(z[0]),z[1]))\n",
    "\n",
    "t=stats.ttest_1samp(Temp_Sample,98.6)\n",
    "print(\"t-score is equal to : %6.3F  p-value equal to: %6.9F\" % (abs(t[0]),t[1]))"
   ]
  },
  {
   "cell_type": "code",
   "execution_count": 18,
   "metadata": {},
   "outputs": [
    {
     "name": "stdout",
     "output_type": "stream",
     "text": [
      "Sample mean:  97.8\n",
      "Sample std:  0.7509993342207418\n",
      "Sigma x:  0.2374868417407578\n",
      "Z-score is equal to :  3.196  p-value equal to: 0.001394718\n",
      "t-score is equal to :  3.196  p-value equal to: 0.010905579\n"
     ]
    }
   ],
   "source": [
    "Ture_mean=98.6\n",
    "\n",
    "np.random.seed(100)\n",
    "Temp_Sample=Temp.sample(n=10)\n",
    "Sample_mean=np.mean(Temp_Sample)\n",
    "Sample_std=np.std(Temp_Sample)\n",
    "sigma_x=Sample_std/np.sqrt(len(Temp_Sample))\n",
    "\n",
    "print('Sample mean: ', Sample_mean)\n",
    "print('Sample std: ', Sample_std)\n",
    "print('Sigma x: ', sigma_x)\n",
    "\n",
    "\n",
    "z = ztest(Temp_Sample,value=98.6)\n",
    "print(\"Z-score is equal to : %6.3F  p-value equal to: %6.9F\" % (abs(z[0]),z[1]))\n",
    "\n",
    "t=stats.ttest_1samp(Temp_Sample,98.6)\n",
    "print(\"t-score is equal to : %6.3F  p-value equal to: %6.9F\" % (abs(t[0]),t[1]))"
   ]
  },
  {
   "cell_type": "markdown",
   "metadata": {},
   "source": [
    "- I cannot conclude, since the p-value differ each time. So I try bootstrap replicate.\n",
    "- First I coumpute the observed difference between the theoretical true mean and the actual sample mean\n",
    "- Then I shift the mean\n",
    "- I create the 100000 bootstrap replicate to get the p-value."
   ]
  },
  {
   "cell_type": "code",
   "execution_count": 19,
   "metadata": {},
   "outputs": [
    {
     "name": "stdout",
     "output_type": "stream",
     "text": [
      "P-value is equal to: 0.0620\n"
     ]
    }
   ],
   "source": [
    "actual_difference = 98.6 - np.mean(Temp)\n",
    "Temp_shifted = Temp - np.mean(Temp) + 98.6\n",
    "\n",
    "#Computing 100,000 bootstrap replicates from the shifted_array under the null hypothesis with only 10 samples\n",
    "bs_replicates = np.empty(100000)\n",
    "\n",
    "for i in range(100000):\n",
    "    bs_sample = np.random.choice(Temp_shifted, 10)\n",
    "    bs_sample_mean = np.mean(bs_sample)\n",
    "    test_statistic = 98.6 - bs_sample_mean\n",
    "    bs_replicates[i] = test_statistic\n",
    "    \n",
    "#Computing the p-value from the boostrap replicates  \n",
    "p_value = np.sum(bs_replicates >= actual_difference) / len(bs_replicates)\n",
    "\n",
    "print('P-value is equal to: %6.4F' % (p_value))"
   ]
  },
  {
   "cell_type": "markdown",
   "metadata": {},
   "source": [
    "**Conclusion: According to our p-value we observe that the difference between the theoretical true mean and the boostrap resample means was at least as big as the observed difference between the theoretical true mean and the actual sample mean, about 6.3% of the time. This value is not statistically significant as it is more than 0.05 , but practically it is still a very small number and we should still conclude acording to this data that the average human body temperature is closer to 98.2 degree Fahrenheit and reject our null hypothesis.**"
   ]
  },
  {
   "cell_type": "markdown",
   "metadata": {},
   "source": [
    "## 5. At what temperature should we consider someone's temperature to be \"abnormal\"?"
   ]
  },
  {
   "cell_type": "code",
   "execution_count": 20,
   "metadata": {},
   "outputs": [
    {
     "name": "stdout",
     "output_type": "stream",
     "text": [
      "The normal Temp is from  98.12368211145665  to  98.37477942700491\n"
     ]
    }
   ],
   "source": [
    "Ture_mean=98.6\n",
    "Sample_mean=np.mean(Temp)\n",
    "Sample_std=np.std(Temp)\n",
    "sigma_x=Sample_std/np.sqrt(len(Temp))\n",
    "\n",
    "z0=stats.norm.ppf(0.975) #percent point function for 95% confidence level\n",
    "Temp_upper=Sample_mean+z0*sigma_x\n",
    "Temp_lower=Sample_mean-z0*sigma_x\n",
    "\n",
    "print('The normal Temp is from ', Temp_lower, ' to ',Temp_upper)"
   ]
  },
  {
   "cell_type": "markdown",
   "metadata": {},
   "source": [
    "- 95% confident that the true mean is somewhere between [98.12 , 98.37], so any temperature outside of this range is abnormal.\n",
    "- **Conclusion: A body temperature below 98.12 and more than 98.37 is abnormal.**"
   ]
  },
  {
   "cell_type": "markdown",
   "metadata": {},
   "source": [
    "## 6. Is there a significant difference between males and females in normal temperature? "
   ]
  },
  {
   "cell_type": "code",
   "execution_count": 21,
   "metadata": {},
   "outputs": [],
   "source": [
    "Male_Temp=df[df.gender=='M']['temperature']\n",
    "Female_Temp=df[df.gender=='F']['temperature']"
   ]
  },
  {
   "cell_type": "code",
   "execution_count": 22,
   "metadata": {},
   "outputs": [
    {
     "data": {
      "text/plain": [
       "count    65.000000\n",
       "mean     98.104615\n",
       "std       0.698756\n",
       "min      96.300000\n",
       "25%      97.600000\n",
       "50%      98.100000\n",
       "75%      98.600000\n",
       "max      99.500000\n",
       "Name: temperature, dtype: float64"
      ]
     },
     "execution_count": 22,
     "metadata": {},
     "output_type": "execute_result"
    }
   ],
   "source": [
    "Male_Temp.describe()"
   ]
  },
  {
   "cell_type": "code",
   "execution_count": 23,
   "metadata": {},
   "outputs": [
    {
     "data": {
      "text/plain": [
       "count     65.000000\n",
       "mean      98.393846\n",
       "std        0.743488\n",
       "min       96.400000\n",
       "25%       98.000000\n",
       "50%       98.400000\n",
       "75%       98.800000\n",
       "max      100.800000\n",
       "Name: temperature, dtype: float64"
      ]
     },
     "execution_count": 23,
     "metadata": {},
     "output_type": "execute_result"
    }
   ],
   "source": [
    "Female_Temp.describe()"
   ]
  },
  {
   "cell_type": "markdown",
   "metadata": {},
   "source": [
    "- H0=True mean temperature of men and women is equal.\n",
    "- Ha=True mean temperature mean of men and women is no equal.\n",
    "- alpha=0.05"
   ]
  },
  {
   "cell_type": "code",
   "execution_count": 24,
   "metadata": {},
   "outputs": [
    {
     "data": {
      "text/plain": [
       "(0.289230769230727, 0.12655395041982642)"
      ]
     },
     "execution_count": 24,
     "metadata": {},
     "output_type": "execute_result"
    }
   ],
   "source": [
    "H0_mean=0\n",
    "Mean_diff=Male_Temp.mean()-Female_Temp.mean()\n",
    "Male_var=(Male_Temp.std()**2)/len(Male_Temp)\n",
    "Female_var=(Female_Temp.std()**2)/len(Female_Temp)\n",
    "\n",
    "sigma_diff=np.sqrt(Male_var+Female_var)\n",
    "\n",
    "abs(Mean_diff), sigma_diff"
   ]
  },
  {
   "cell_type": "code",
   "execution_count": 25,
   "metadata": {},
   "outputs": [
    {
     "data": {
      "text/plain": [
       "0.022287360760677277"
      ]
     },
     "execution_count": 25,
     "metadata": {},
     "output_type": "execute_result"
    }
   ],
   "source": [
    "z=(H0_mean-Mean_diff)/sigma_diff\n",
    "p_value=(1-stats.norm.cdf(z))*2\n",
    "p_value"
   ]
  },
  {
   "cell_type": "markdown",
   "metadata": {},
   "source": [
    "- p_value is less than alpha, so the null hypothesis should be rejected and the alternative hypothesis has to be accepted.\n",
    "- **Conclusion: It means there is a significant difference in male and female body temperature**"
   ]
  }
 ],
 "metadata": {
  "kernelspec": {
   "display_name": "Python 3",
   "language": "python",
   "name": "python3"
  },
  "language_info": {
   "codemirror_mode": {
    "name": "ipython",
    "version": 3
   },
   "file_extension": ".py",
   "mimetype": "text/x-python",
   "name": "python",
   "nbconvert_exporter": "python",
   "pygments_lexer": "ipython3",
   "version": "3.6.5"
  }
 },
 "nbformat": 4,
 "nbformat_minor": 1
}
